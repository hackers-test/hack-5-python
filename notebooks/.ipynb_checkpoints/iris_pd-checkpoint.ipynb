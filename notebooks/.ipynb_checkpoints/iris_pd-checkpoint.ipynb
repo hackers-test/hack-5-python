{
 "cells": [
  {
   "cell_type": "code",
   "execution_count": 31,
   "id": "1f3695ff-f432-4bee-9d64-ed7cacf6ab80",
   "metadata": {},
   "outputs": [
    {
     "name": "stderr",
     "output_type": "stream",
     "text": [
      "/Users/riyarampalli/miniforge3/lib/python3.10/site-packages/scipy/__init__.py:146: UserWarning: A NumPy version >=1.16.5 and <1.23.0 is required for this version of SciPy (detected version 1.26.0\n",
      "  warnings.warn(f\"A NumPy version >={np_minversion} and <{np_maxversion}\"\n"
     ]
    }
   ],
   "source": [
    "import requests\n",
    "import pandas as pd\n",
    "import scipy.stats as stats #for the challenge exercise!!!"
   ]
  },
  {
   "cell_type": "code",
   "execution_count": 29,
   "id": "ec4b1c8d-d80a-401d-ba8e-fa0a3fe2be83",
   "metadata": {},
   "outputs": [],
   "source": [
    "url = \"https://eaton-lab.org/data/iris-data-dirty.csv\" #fetched from linked page on assigment\n",
    "\n",
    "response = requests.get(url)\n",
    "\n",
    "\"\"\"\n",
    "Load the iris data into a pandas DataFrame. \n",
    "This version of the data does not have 'headers' to indicate the meanings of the columns.\n",
    "The 5 columns in the dataset are sepal length and width, petal length and width, and species ID.\n",
    "\"\"\"\n",
    "column_names = ['sepal_length', 'sepal_width', 'petal_length', 'petal_width', 'species_ID']\n",
    "df = pd.read_csv(url, header = None, names = column_names)\n",
    "\n",
    "#print(df.head()) -> prints only first couple rows\n",
    "\n",
    "\"\"\"\n",
    "Fix rows with misspelled species IDs and remove NA values\n",
    "\"\"\"\n",
    "df['species_ID'] = df['species_ID'].replace({\n",
    "    'Iris-setsa': 'Iris-setosa',  # Correct 'Iris-setsa' to 'Iris-setosa'\n",
    "    'Iris-versicolour': 'Iris-versicolor',  # Correct 'Iris-versicolour' to 'Iris-versicolor'\n",
    "    'Iris-versicolour*': 'Iris-versicolor',  # If you still have an asterisk variant\n",
    "    'Iris-setosa*': 'Iris-setosa',  # If you still have an asterisk variant\n",
    "    'Iris-virginica*': 'Iris-virginica'  # If you still have an asterisk variant\n",
    "})\n",
    "\n",
    "df = df.dropna()\n",
    "#print(df)"
   ]
  },
  {
   "cell_type": "code",
   "execution_count": 30,
   "id": "dd051236-256f-42d9-9279-6b6ab4c78278",
   "metadata": {},
   "outputs": [
    {
     "name": "stdout",
     "output_type": "stream",
     "text": [
      "                sepal_length                                                 \\\n",
      "                       count      mean       std  min    25%  50%  75%  max   \n",
      "species_ID                                                                    \n",
      "Iris-setosa             50.0  5.006000  0.352490  4.3  4.800  5.0  5.2  5.8   \n",
      "Iris-versicolor         48.0  5.935417  0.522062  4.9  5.600  5.9  6.3  7.0   \n",
      "Iris-virginica          50.0  6.588000  0.635880  4.9  6.225  6.5  6.9  7.9   \n",
      "\n",
      "                sepal_width            ... petal_length      petal_width  \\\n",
      "                      count      mean  ...          75%  max       count   \n",
      "species_ID                             ...                                 \n",
      "Iris-setosa            50.0  3.418000  ...        1.575  1.9        50.0   \n",
      "Iris-versicolor        48.0  2.770833  ...        4.600  5.1        48.0   \n",
      "Iris-virginica         50.0  2.974000  ...        5.875  6.9        50.0   \n",
      "\n",
      "                                                              \n",
      "                     mean       std  min  25%  50%  75%  max  \n",
      "species_ID                                                    \n",
      "Iris-setosa      0.244000  0.107210  0.1  0.2  0.2  0.3  0.6  \n",
      "Iris-versicolor  1.322917  0.200255  1.0  1.2  1.3  1.5  1.8  \n",
      "Iris-virginica   2.026000  0.274650  1.4  1.8  2.0  2.3  2.5  \n",
      "\n",
      "[3 rows x 32 columns]\n"
     ]
    }
   ],
   "source": [
    "\"\"\"\n",
    "Use the describe() method to show summary statistics over the numerical valued columns. \n",
    "\"\"\"\n",
    "species_summary = df.groupby('species_ID').describe()\n",
    "print(species_summary)"
   ]
  },
  {
   "cell_type": "markdown",
   "id": "1dd57802-ad2f-4172-819d-e354be88d8f5",
   "metadata": {},
   "source": [
    "From inspecting the summary statistics I am able to draw **several** conclusions:\n",
    "1. Iris-setosa has the smallest mean sepal length (5.01). This suggests to me that the sepal length for this species is smaller in comparison to the other species. Iris-versicolor has a slightly larger mean sepal length (5.49). Iris-vriginica has the largest mean sepal length (6.59), with a wider range amongst its values indicating that the species has more variability in sepal length.\n",
    "2. Iriso-setosa has the largest mean sepal width (3.42) compared to the other species, suggesting to me that its sepals are broader on average. Iris-versicolor has a smaller mean sepal width (2.77); Iris-virginica has the smallest (2.97). This points out interesting *pattern* - as sepal length increases, width decreases!\n",
    "3. Iris-setosas the smalelst mean petal length (1.46); Iris-versicolor has a significantly larger mean petal length (4.26); Iris-virginica has the largest mean petal length (5.55).\n",
    "4. Iris-setosa has the smallest mean petal width (0.244) while Iris-virginica has the largest mean petal width (2.03).\n",
    "\n",
    "**Conclusions:**\n",
    "These summary statistics indicate to me that there are clear differences between the three species based on the measurements of sepal and petal dimensions. Iris-setosa seems to be consistently smaller, while Iris-virgina is larger, and experiences more variation. "
   ]
  },
  {
   "cell_type": "code",
   "execution_count": 35,
   "id": "e58698d9-8644-4594-8f05-721a1b56e5b1",
   "metadata": {},
   "outputs": [
    {
     "name": "stdout",
     "output_type": "stream",
     "text": [
      "T-test for sepal length between setosa and virginica: t-statistic = -15.386195820079404, p-value = 6.892546060674106e-28\n"
     ]
    }
   ],
   "source": [
    "#CHALLENGE:\n",
    "\"\"\"\n",
    "Perform formal tests for differences in group means using ttest_ind from scipy.stats.\n",
    "Hint: You can access the data for a specific group using the get_group() method of the groupby object.\n",
    "\"\"\"\n",
    "grouping = df.groupby('species_ID')\n",
    "setosa = grouping.get_group('Iris-setosa')\n",
    "versicolor = grouping.get_group('Iris-versicolor')\n",
    "virginica = grouping.get_group('Iris-virginica')\n",
    "\n",
    "#only did one-comparison here to get a sense of how the function works:\n",
    "t_stat,p_value = stats.ttest_ind(setosa['sepal_length'], virginica['sepal_length'])\n",
    "print(f\"T-test for sepal length between setosa and virginica: t-statistic = {t_stat}, p-value = {p_value}\")"
   ]
  },
  {
   "cell_type": "code",
   "execution_count": null,
   "id": "03f9783d-bc6b-4fda-83a9-aac1db5c89e8",
   "metadata": {},
   "outputs": [],
   "source": []
  }
 ],
 "metadata": {
  "kernelspec": {
   "display_name": "Python 3 (ipykernel)",
   "language": "python",
   "name": "python3"
  },
  "language_info": {
   "codemirror_mode": {
    "name": "ipython",
    "version": 3
   },
   "file_extension": ".py",
   "mimetype": "text/x-python",
   "name": "python",
   "nbconvert_exporter": "python",
   "pygments_lexer": "ipython3",
   "version": "3.10.12"
  }
 },
 "nbformat": 4,
 "nbformat_minor": 5
}

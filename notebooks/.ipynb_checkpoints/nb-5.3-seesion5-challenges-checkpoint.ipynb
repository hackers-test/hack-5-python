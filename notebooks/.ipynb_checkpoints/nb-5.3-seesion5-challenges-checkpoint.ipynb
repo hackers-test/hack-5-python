{
 "cells": [
  {
   "cell_type": "markdown",
   "metadata": {},
   "source": [
    "# Notebook 5.3: Session 5 challenges\n",
    "\n",
    "Here are more challenges to test your knowledge of variables, lists, and for loops."
   ]
  },
  {
   "cell_type": "markdown",
   "metadata": {},
   "source": [
    "### Challenges"
   ]
  },
  {
   "cell_type": "markdown",
   "metadata": {},
   "source": [
    "A. Create code that includes a loop which iterates over the a list of integers and prints the sum. Use\n",
    "this list as a test case [1, 5, 2, 6] and print the results in this form:\n",
    "```\n",
    "The sum of the numbers in the list is 14\n",
    "```\n",
    "\n",
    "Hint: Use the += operator, and a variable which is instantiated outside the loop, but modified inside it."
   ]
  },
  {
   "cell_type": "code",
   "execution_count": 9,
   "metadata": {},
   "outputs": [
    {
     "name": "stdout",
     "output_type": "stream",
     "text": [
      "The sum of the numbers in the list is 14\n"
     ]
    }
   ],
   "source": [
    "test_case = [1,5,2,6] #defined my list\n",
    "amount = 0 #realized I couldn't create a var. named 'sum' bc of built-in sum function\n",
    "\n",
    "for num in test_case: #started for-loop \n",
    "    amount += num #adding integers to 'amount'\n",
    "#printing output of for-loop; want it ouside loop for TOTAL sum\n",
    "print(f\"The sum of the numbers in the list is {amount}\") #used a f-string to re-format output "
   ]
  },
  {
   "cell_type": "markdown",
   "metadata": {},
   "source": [
    "B. Write python code to print the following DNA sequence pattern using a loop.\n",
    "```\n",
    "CATG\n",
    "CATGCATG\n",
    "CATGCATGCATG\n",
    "CATGCATGCATGCATG\n",
    "CATGCATGCATGCATGCATG\n",
    "```"
   ]
  },
  {
   "cell_type": "code",
   "execution_count": 4,
   "metadata": {},
   "outputs": [
    {
     "name": "stdout",
     "output_type": "stream",
     "text": [
      "\n",
      "CATG\n",
      "CATGCATG\n",
      "CATGCATGCATG\n",
      "CATGCATGCATGCATG\n",
      "CATGCATGCATGCATGCATG\n"
     ]
    }
   ],
   "source": [
    "DNA_seq = \"CATG\" #created a string \n",
    "i = 0 #repetition factor\n",
    "#trying out while-loop;\n",
    "while i <= 5: #created while-loop; there are five lines (i.e. 5  repetitions needed)\n",
    "    print(DNA_seq * i) #multiplying current seq. by i\n",
    "    i += 1 #increasing repetition increment for TOTAL of 5 repetitions"
   ]
  },
  {
   "cell_type": "markdown",
   "metadata": {},
   "source": [
    "C. Create code with a nested loop based on the list of lists [[\"apple\", \"orange\"], [\"carrot\", \"cabbage\"], [\"chicken\", \"beef\"]] and produces the following output:\n",
    "```\n",
    "apple\n",
    "orange\n",
    "carrot\n",
    "cabbage\n",
    "chicken\n",
    "beef\n",
    "```"
   ]
  },
  {
   "cell_type": "code",
   "execution_count": 6,
   "metadata": {
    "scrolled": true
   },
   "outputs": [
    {
     "name": "stdout",
     "output_type": "stream",
     "text": [
      "apple\n",
      "orange\n",
      "carrot\n",
      "cabbage\n",
      "chicken\n",
      "beef\n"
     ]
    }
   ],
   "source": [
    "list_lists = [[\"apple\", \"orange\"], [\"carrot\", \"cabbage\"], [\"chicken\", \"beef\"]]\n",
    "for item in list_lists: #'item' here is my OUTER list\n",
    "    for items in item: #while 'items' is my INNER list\n",
    "        print(items) #printing individuals 'items'"
   ]
  },
  {
   "cell_type": "markdown",
   "metadata": {},
   "source": [
    "D. Using the same input list of lists as above modify create new code so it prints the following output:\n",
    "```\n",
    "apple\n",
    "carrot\n",
    "chicken\n",
    "orange\n",
    "cabbage\n",
    "beef\n",
    "```"
   ]
  },
  {
   "cell_type": "code",
   "execution_count": 1,
   "metadata": {},
   "outputs": [
    {
     "name": "stdout",
     "output_type": "stream",
     "text": [
      "apple\n",
      "carrot\n",
      "chicken\n",
      "orange\n",
      "cabbage\n",
      "beef\n"
     ]
    }
   ],
   "source": [
    "#found this challenging!\n",
    "list_lists = [[\"apple\", \"orange\"], [\"carrot\", \"cabbage\"], [\"chicken\", \"beef\"]]\n",
    "\n",
    "index = 0 #assigning a starting value\n",
    "done = False #checking each time as to whether OUTER list is finished \n",
    "\n",
    "while not done: #starting while loop \n",
    "    done = True #meaning I have gone through entire OUTER/INNER list(s)\n",
    "    for item in list_lists: #'item' here is my OUTER list\n",
    "        if index < len(item): #checking if INNER list contains item\n",
    "            print(item[index]) #printing item\n",
    "            done = False #if there is still more printing we are NOT done \n",
    "    index += 1 #updating index with new value "
   ]
  },
  {
   "cell_type": "markdown",
   "metadata": {},
   "source": [
    "E. Write a for loop to print the first 20 even numbers starting at 0 (hint: use range())."
   ]
  },
  {
   "cell_type": "code",
   "execution_count": 8,
   "metadata": {},
   "outputs": [
    {
     "name": "stdout",
     "output_type": "stream",
     "text": [
      "0\n",
      "2\n",
      "4\n",
      "6\n",
      "8\n",
      "10\n",
      "12\n",
      "14\n",
      "16\n",
      "18\n",
      "20\n",
      "22\n",
      "24\n",
      "26\n",
      "28\n",
      "30\n",
      "32\n",
      "34\n",
      "36\n",
      "38\n"
     ]
    }
   ],
   "source": [
    "for num in range(0,40,2): #starting at 0, stopping at 40; step count by 2\n",
    "    #ended at 40 to ensure we can get 20 EVEN numbers \n",
    "    print(num)"
   ]
  },
  {
   "cell_type": "markdown",
   "metadata": {},
   "source": [
    "F. Write a for loop to print the first 20 odd numbers starting at 101, but print them in descending order."
   ]
  },
  {
   "cell_type": "code",
   "execution_count": 11,
   "metadata": {},
   "outputs": [
    {
     "name": "stdout",
     "output_type": "stream",
     "text": [
      "101\n",
      "99\n",
      "97\n",
      "95\n",
      "93\n",
      "91\n",
      "89\n",
      "87\n",
      "85\n",
      "83\n",
      "81\n",
      "79\n",
      "77\n",
      "75\n",
      "73\n",
      "71\n",
      "69\n",
      "67\n",
      "65\n",
      "63\n",
      "61\n"
     ]
    }
   ],
   "source": [
    "for num in range(101,60,-2): #starting at 101, stopping at 60; step count decrease by 2\n",
    "    #ended at 60 to ensure we can get 20 ODD numbers; had to do some trial-error here to figure out range \n",
    "    print(num)"
   ]
  },
  {
   "cell_type": "markdown",
   "metadata": {},
   "source": [
    "G. Using what you have learned in the previous exercises, write code to take a the following \n",
    "DNA sequence and print only the bases with even index. For example if the\n",
    "input sequence is \"GCACGG\" the output should be \"GAG\" (remembering that 0 is also even)."
   ]
  },
  {
   "cell_type": "code",
   "execution_count": 35,
   "metadata": {},
   "outputs": [],
   "source": [
    "seq = \"\"\"\n",
    ">Calumma_boettgeri_voucher_FGZC_462\n",
    "GGAAGTATTAACCAGACACAACTACGAAAACTAATGGCCTACTCATCAATTACTAACC\n",
    "TAGGGTGGACAATAATTATTTTCACAACCGCACCACACATTGCTACACTAAACATTAT\n",
    "TATCTACATAATTATACTCATCCCACTATTCATACTCATTAAAAAAATATCTATAAAA\n",
    "ACACTGCGAGACTCAACAACTACATGAACTACGTCCCCGATAGCAAACACCCTACTAA\n",
    "TGCTAATACTTCTGTCACTAAGTGGTCTTCCCCCCCTCACAGGTTTCACCCCAAAACT\n",
    "TTTAATTTTAAACGAACTAATTTTACAAAATTTAACACCCGCTGCAACAATAATAGCC\n",
    "ATACTATCTCTAATTGGACTATTTTTTTATATCCGAACAAC\n",
    "\"\"\""
   ]
  },
  {
   "cell_type": "code",
   "execution_count": 14,
   "metadata": {},
   "outputs": [
    {
     "name": "stdout",
     "output_type": "stream",
     "text": [
      "\n",
      "GATTACAAAACAGAATAGCTCCTATATACTGGGAATATTTCCACCCAAATCAATACTA\n",
      "ACAAATAATACCCATAATATAAATTTTAAAATCAATACATCTACAGCCGTGAAACTCA\n",
      "GTAATCGCCAGGTTCCCCCCGTTACCAATTTATTACACATTAAATTAACGTCAATAAC\n",
      "TCACCATGATTTTTTTCACA\n",
      "\n"
     ]
    }
   ],
   "source": [
    "even_bases = \"\" #creating empty string\n",
    "for char in range(0, len(seq), 2): #starting at index 0, ending at sequence end; step count by 2\n",
    "    even_bases += seq[char] #adding new base 'character' to empty string \n",
    "\n",
    "print(even_bases) #printing entire string of EVEN indexed bases"
   ]
  },
  {
   "cell_type": "code",
   "execution_count": null,
   "metadata": {},
   "outputs": [],
   "source": []
  }
 ],
 "metadata": {
  "kernelspec": {
   "display_name": "Python 3 (ipykernel)",
   "language": "python",
   "name": "python3"
  },
  "language_info": {
   "codemirror_mode": {
    "name": "ipython",
    "version": 3
   },
   "file_extension": ".py",
   "mimetype": "text/x-python",
   "name": "python",
   "nbconvert_exporter": "python",
   "pygments_lexer": "ipython3",
   "version": "3.10.12"
  }
 },
 "nbformat": 4,
 "nbformat_minor": 4
}

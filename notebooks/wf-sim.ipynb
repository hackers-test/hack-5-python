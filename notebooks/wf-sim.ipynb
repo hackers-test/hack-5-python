{
 "cells": [
  {
   "cell_type": "code",
   "execution_count": 1,
   "id": "73e1e51f-f815-4c64-992d-4e3d85cc8182",
   "metadata": {},
   "outputs": [
    {
     "data": {
      "text/plain": [
       "'foobarfizzbuzz'"
      ]
     },
     "execution_count": 1,
     "metadata": {},
     "output_type": "execute_result"
    }
   ],
   "source": [
    "def my_cool_function(arg1, arg2):\n",
    "    arg1 += 'bar'\n",
    "    arg2 += 'buzz'\n",
    "    return arg1 + arg2\n",
    "my_cool_function('foo', 'fizz')"
   ]
  },
  {
   "cell_type": "code",
   "execution_count": 31,
   "id": "037f7223-d84b-4e85-88c5-4f346b286988",
   "metadata": {},
   "outputs": [
    {
     "data": {
      "text/plain": [
       "[1, 1, 1, 1, 1, 0, 0, 0, 0, 0]"
      ]
     },
     "execution_count": 31,
     "metadata": {},
     "output_type": "execute_result"
    }
   ],
   "source": [
    "#initializing the population\n",
    "#first argument is size of population in haploid individuals (N)\n",
    "#second argument is frequency of derived alleles (f)\n",
    "\n",
    "def init_function(N, f):\n",
    "    derived = int(N*f) #determines derived alleles\n",
    "    ancestral = N - derived #determines ancestral alleles\n",
    "    population = [1] * derived + [0] * ancestral #derived/ancestral allele frequency for entire pop\n",
    "    return population #returns 23 list items, and assigns them 0 or 1 to fit value of f\n",
    "init_function(N=10, f=0.5) #setting values for N and f"
   ]
  },
  {
   "cell_type": "code",
   "execution_count": 5,
   "id": "0711d723-5143-406a-984b-e6101ff1b674",
   "metadata": {},
   "outputs": [
    {
     "name": "stdout",
     "output_type": "stream",
     "text": [
      "[0, 1, 1, 0, 1, 1, 1, 1, 1, 1]\n"
     ]
    }
   ],
   "source": [
    "import random  #have to import this package first \n",
    "\n",
    "ancestral_pop = [1, 1, 1, 1, 1, 0, 0, 0, 0, 0] #manually initializing with nums. from above\n",
    "\n",
    "#retrieving one WF generation\n",
    "def step_function(wf_pop): #my function!!!\n",
    "    N = len(wf_pop) #retrieving population size (in this case it is 10!)\n",
    "    derived = sum(wf_pop) / N #chance of a derived allele being past to next generation \n",
    "    #(I have N = 10, derived alleles = 5 THUS 50% chance of allele being passed on\n",
    "\n",
    "    next_gen = [1 if random.random() < derived else 0 for _ in range(N)] \n",
    "    #^ will probabilistically assign 1 or 0 to the derived allele frequency \n",
    "    #if random num is less than 50% (or 0.5) then it will be assigned a 1; otherwise 0 for ancestral\n",
    "    return next_gen\n",
    "    \n",
    "#simulating next generation\n",
    "next_gen = step_function(wf_pop=ancestral_pop) \n",
    "#^calling on step_function and passing my ancestral_pop list as an argument to the param 'wf_pop'\n",
    "\n",
    "print(next_gen)"
   ]
  },
  {
   "cell_type": "code",
   "execution_count": 12,
   "id": "d9d52c13-0ace-431a-9596-4574e621c1df",
   "metadata": {},
   "outputs": [
    {
     "name": "stdout",
     "output_type": "stream",
     "text": [
      "generations: 10; freq(a): 0.0541\n"
     ]
    }
   ],
   "source": [
    "#COPIED FROM ABOVE: this function initialized my population w a certain N and f for each individual\n",
    "def init_function(N, f):\n",
    "    derived = int(N*f) #determines derived alleles\n",
    "    ancestral = N - derived #determines ancestral alleles\n",
    "    population = [1] * derived + [0] * ancestral #derived/ancestral allele frequency for entire pop\n",
    "    return population #returns 23 list items, and assigns them 0 or 1 to fit value of f\n",
    "\n",
    "#COPIED FROM ABOVE: this function allows me to simulate generations esp. allele frequencies\n",
    "def step_function(wf_pop): #my function!!!\n",
    "    N = len(wf_pop) #retrieving population size (in this case it is 10!)\n",
    "    derived = sum(wf_pop) / N #chance of a derived allele being past to next generation \n",
    "    #(I have N = 10, derived alleles = 5 THUS 50% chance of allele being passed on\n",
    "\n",
    "    next_gen = [1 if random.random() < derived else 0 for _ in range(N)] \n",
    "    #^ will probabilistically assign 1 or 0 to the derived allele frequency \n",
    "    #if random num is less than 50% (or 0.5) then it will be assigned a 1; otherwise 0 for ancestral\n",
    "    return next_gen\n",
    "\n",
    "\n",
    "#Bringing it ALL together - initializes AND loops through each generation \n",
    "##spits out final derived allele frequency after 10 gens!!!!!\n",
    "def wf_function(N, f, ngens): #N = pop size., f = derived allele freq., ngens = # generations to run\n",
    "    population = init_function(N, f)\n",
    "    #simulating for _ generations:\n",
    "    for _ in range(ngens):\n",
    "        population = step_function(population)\n",
    "    final_derived_freq = sum(population) / N\n",
    "\n",
    "    print(f\"generations: {ngens}; freq(a): {final_derived_freq:.4f}\") #formats so string/int can print together\n",
    "wf_function(N = 37, f = 0.3, ngens = 10) #output"
   ]
  },
  {
   "cell_type": "code",
   "execution_count": 11,
   "id": "7d62ce89-0973-4f6a-9a8d-f59dad1f799e",
   "metadata": {},
   "outputs": [
    {
     "data": {
      "text/plain": [
       "[1, 0, 0, 0, 0, 0, 0, 1, 0, 0]"
      ]
     },
     "execution_count": 11,
     "metadata": {},
     "output_type": "execute_result"
    }
   ],
   "source": [
    "import random #need this library for later!!\n",
    "\n",
    "class Population: #defined my first python class!!\n",
    "    def __init__(self, N = 10, f = 0.2): #special class method which is called when creating instance of a new class\n",
    "        #defining attributes and setting them equal to the passed-in values:\n",
    "        self.N = N #we set \"reasonable default values\" for this\n",
    "        self.f = f #we set \"reasonable default values\" for this\n",
    "        #reasonable values means class instance will take default values that we define for arguments!!!\n",
    "\n",
    "        derived_count = round(N*f)\n",
    "        self.pop = [0] * (N - derived_count) + [1] * derived_count \n",
    "    def __repr__(self):\n",
    "        return f\"Population(N={self.N}, f={self.f})\"\n",
    "    \n",
    "    def step(self, ngens=1):#Population class is already aware of N and f, so we only need to pass in 1 new argument\n",
    "        for i in range(ngens): #new argument; calling on functions in random library \n",
    "            \n",
    "            #original step() function didn't know about the pop so we had it calculate len(pop) to set value for k \n",
    "            #wildly inefficient, as we know pop size is fixed and constant for a given simulation, \n",
    "            #we took advantage of N attribute of the Population object to get past pointless recalculation:\n",
    "            self.pop = random.choices(self.pop, k = self.N)\n",
    "    \n",
    "    #pass (python keyword that means \"don't do anything (here)\")\n",
    "\n",
    "p = Population() #when I type p it will \"run through\" the class and carry it all the functions\n",
    "p.step(ngens = 10) #setting a \"reasonable default value\" for ngen\n",
    "p.pop"
   ]
  },
  {
   "cell_type": "code",
   "execution_count": 21,
   "id": "653372e1-1a61-474e-96a7-644755f9616b",
   "metadata": {},
   "outputs": [
    {
     "name": "stdout",
     "output_type": "stream",
     "text": [
      "[1 0 0 1 1 0 1 0 1 1]\n",
      "False\n"
     ]
    }
   ],
   "source": [
    "import random #need this library for later!!\n",
    "import numpy as np\n",
    "\n",
    "#Further challenges:\n",
    "\"\"\"\n",
    "Create a new isMonomorphic() method for your Population class to test whether the population is fixed for either the ancestral or derived state.\n",
    "Method should return TRUE if population is monomorphic for either state \n",
    "FALSE if otherwise \n",
    "\"\"\"\n",
    "#COPIED FROM ABOVE -----:\n",
    "\n",
    "class Population: #defined my first python class!!\n",
    "    def __init__(self, N = 10, f = 0.2, with_np = False): #special class method which is called when creating instance of a new class\n",
    "        #defining attributes and setting them equal to the passed-in values:\n",
    "        self.N = N #we set \"reasonable default values\" for this\n",
    "        self.f = f #we set \"reasonable default values\" for this\n",
    "        self.with_np = with_np #I set a default value for this; making attribute a class object\n",
    "        #reasonable values means class instance will take default values that we define for arguments!!!\n",
    "    \n",
    "        derived_count = round(N*f)\n",
    "        \n",
    "        #this if-else generates a population based on whether 'with_np' = T/F\n",
    "        if self.with_np: \n",
    "            self.pop = np.array([0] * (N - derived_count) + [1] * derived_count) #this is a numpy array \n",
    "        else:\n",
    "            self.pop = [0] * (N - derived_count) + [1] * derived_count #use regular list \n",
    "            \n",
    "    def __repr__(self):\n",
    "        return f\"Population(N={self.N}, f={self.f})\"\n",
    "    \n",
    "    def step(self, ngens=1):#Population class is already aware of N and f, so we only need to pass in 1 new argument\n",
    "        for _ in range(ngens): #new argument; calling on functions in random library \n",
    "            #if with_np is true it'll use numpy rc, otherwise just uses random choice\n",
    "            if self.with_np:\n",
    "                self.pop = np.random.choice(self.pop, size = self.N)\n",
    "             #original step() function didn't know about the pop so we had it calculate len(pop) to set value for k \n",
    "             #wildly inefficient, as we know pop size is fixed and constant for a given simulation, \n",
    "             #we took advantage of N attribute of the Population object to get past pointless recalculation:\n",
    "            else:\n",
    "                self.pop = random.choices(self.pop, k = self.N)\n",
    "        \n",
    "    def isMonomorphic(self):\n",
    "        return len(set(self.pop)) == 1 #returns true if ALL elements in self.pop are the same \n",
    "    #pass (python keyword that means \"don't do anything (here)\")\n",
    "\n",
    "p = Population(with_np = True) #when I type p it will \"run through\" the class and carry it all the functions\n",
    "p.step(ngens = 10) #setting a \"reasonable default value\" for ngen\n",
    "print(p.pop)\n",
    "print(p.isMonomorphic())"
   ]
  },
  {
   "cell_type": "code",
   "execution_count": 23,
   "id": "17dbeb2a-7b75-4425-bf2d-ee6a65627247",
   "metadata": {},
   "outputs": [
    {
     "name": "stdout",
     "output_type": "stream",
     "text": [
      "[0, 0, 0, 0, 0, 0, 0, 0, 0, 0, 0, 0, 0, 0, 0, 0, 0, 0, 0, 0, 0, 0, 0, 0, 0, 0, 0, 0, 0, 0, 0, 0, 0, 0, 0, 0, 0, 0, 0, 0, 0, 0, 0, 0, 0, 0, 0, 0, 0, 0, 0, 0, 0, 0, 0, 0, 0, 0, 0, 0, 0, 0, 0, 0, 0, 0, 0, 0, 0, 0, 0, 0, 0, 0, 0, 0, 0, 0, 0, 0, 1, 1, 1, 1, 1, 1, 1, 1, 1, 1, 1, 1, 1, 1, 1, 1, 1, 1, 1, 1]\n",
      "[0 0 0 0 0 0 0 0 0 0 0 0 0 0 0 0 0 0 0 0 0 0 0 0 0 0 0 0 0 0 0 0 0 0 0 0 0\n",
      " 0 0 0 0 0 0 0 0 0 0 0 0 0 0 0 0 0 0 0 0 0 0 0 0 0 0 0 0 0 0 0 0 0 0 0 0 0\n",
      " 0 0 0 0 0 0 1 1 1 1 1 1 1 1 1 1 1 1 1 1 1 1 1 1 1 1]\n"
     ]
    }
   ],
   "source": [
    "\"\"\"\n",
    "Instantiate two new objects of type Population, one called pop and the other pop_np.\n",
    "Set the population size to 100 and set the with_np flag based on name of these objects.\n",
    "\"\"\"\n",
    "pop = Population(N = 100, with_np = False)\n",
    "pop_np = Population(N = 100, with_np = True)\n",
    "print(pop.pop)\n",
    "print(pop_np.pop) #this is my numpy array "
   ]
  },
  {
   "cell_type": "code",
   "execution_count": 28,
   "id": "04734676-ad85-40d1-892c-1ef60ea14fdb",
   "metadata": {},
   "outputs": [
    {
     "name": "stdout",
     "output_type": "stream",
     "text": [
      "6.2 ms ± 15.5 μs per loop (mean ± std. dev. of 7 runs, 100 loops each)\n"
     ]
    }
   ],
   "source": [
    "%%timeit #automatically \"prints\" timeing result output \n",
    "pop.step(ngens = 1000) "
   ]
  },
  {
   "cell_type": "code",
   "execution_count": 29,
   "id": "c74b44b3-7b2b-4a50-a62a-2d188d165980",
   "metadata": {},
   "outputs": [
    {
     "name": "stdout",
     "output_type": "stream",
     "text": [
      "6.44 ms ± 26.7 μs per loop (mean ± std. dev. of 7 runs, 100 loops each)\n"
     ]
    }
   ],
   "source": [
    "%%timeit #automatically \"prints\" timeing result output \n",
    "pop_np.step(ngens = 1000)"
   ]
  },
  {
   "cell_type": "markdown",
   "id": "ef6f9a9f-26f1-4096-b00f-d2722257e804",
   "metadata": {},
   "source": [
    "After testing the performance of step() using both the list-based and numpy-array based populations, using %%timeit, I observed the following results:\n",
    "1. for the **list-based** population, the execution time was 6.2 ms ± 15.5 μs per loop.\n",
    "2. for the **numpy-array based** population, the execution time was 6.44 ms ± 26.7 μs per loop\n",
    "\n",
    "**Conclusion:**\n",
    "The execution time difference between the two populations is quite small, with the list-based population excuting slightly faster. Thus, I conclude that for this specific test, the list-based implementation seems to be marginally faster than the numpy-array based implementation.However, given the marginal difference in execution times it is hard to favor one over the other in this context.\n",
    "*Note:* if the number of generations or population size were to be >1000, perhaps the performance benefits of using numpy-arrays would become more apparent?"
   ]
  },
  {
   "cell_type": "code",
   "execution_count": null,
   "id": "e78d1480-6064-4ff7-a1bb-9fcd97355c16",
   "metadata": {},
   "outputs": [],
   "source": []
  }
 ],
 "metadata": {
  "kernelspec": {
   "display_name": "Python 3 (ipykernel)",
   "language": "python",
   "name": "python3"
  },
  "language_info": {
   "codemirror_mode": {
    "name": "ipython",
    "version": 3
   },
   "file_extension": ".py",
   "mimetype": "text/x-python",
   "name": "python",
   "nbconvert_exporter": "python",
   "pygments_lexer": "ipython3",
   "version": "3.10.12"
  }
 },
 "nbformat": 4,
 "nbformat_minor": 5
}

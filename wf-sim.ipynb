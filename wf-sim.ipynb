{
 "cells": [
  {
   "cell_type": "code",
   "execution_count": 1,
   "id": "73e1e51f-f815-4c64-992d-4e3d85cc8182",
   "metadata": {},
   "outputs": [
    {
     "data": {
      "text/plain": [
       "'foobarfizzbuzz'"
      ]
     },
     "execution_count": 1,
     "metadata": {},
     "output_type": "execute_result"
    }
   ],
   "source": [
    "def my_cool_function(arg1, arg2):\n",
    "    arg1 += 'bar'\n",
    "    arg2 += 'buzz'\n",
    "    return arg1 + arg2\n",
    "my_cool_function('foo', 'fizz')"
   ]
  },
  {
   "cell_type": "code",
   "execution_count": 31,
   "id": "037f7223-d84b-4e85-88c5-4f346b286988",
   "metadata": {},
   "outputs": [
    {
     "data": {
      "text/plain": [
       "[1, 1, 1, 1, 1, 0, 0, 0, 0, 0]"
      ]
     },
     "execution_count": 31,
     "metadata": {},
     "output_type": "execute_result"
    }
   ],
   "source": [
    "#initializing the population\n",
    "#first argument is size of population in haploid individuals (N)\n",
    "#second argument is frequency of derived alleles (f)\n",
    "\n",
    "def init_function(N, f):\n",
    "    derived = int(N*f) #determines derived alleles\n",
    "    ancestral = N - derived #determines ancestral alleles\n",
    "    population = [1] * derived + [0] * ancestral #derived/ancestral allele frequency for entire pop\n",
    "    return population #returns 23 list items, and assigns them 0 or 1 to fit value of f\n",
    "init_function(N=10, f=0.5) #setting values for N and f"
   ]
  },
  {
   "cell_type": "code",
   "execution_count": 5,
   "id": "0711d723-5143-406a-984b-e6101ff1b674",
   "metadata": {},
   "outputs": [
    {
     "name": "stdout",
     "output_type": "stream",
     "text": [
      "[0, 1, 1, 0, 1, 1, 1, 1, 1, 1]\n"
     ]
    }
   ],
   "source": [
    "import random  #have to import this package first \n",
    "\n",
    "ancestral_pop = [1, 1, 1, 1, 1, 0, 0, 0, 0, 0] #manually initializing with nums. from above\n",
    "\n",
    "#retrieving one WF generation\n",
    "def step_function(wf_pop): #my function!!!\n",
    "    N = len(wf_pop) #retrieving population size (in this case it is 10!)\n",
    "    derived = sum(wf_pop) / N #chance of a derived allele being past to next generation \n",
    "    #(I have N = 10, derived alleles = 5 THUS 50% chance of allele being passed on\n",
    "\n",
    "    next_gen = [1 if random.random() < derived else 0 for _ in range(N)] \n",
    "    #^ will probabilistically assign 1 or 0 to the derived allele frequency \n",
    "    #if random num is less than 50% (or 0.5) then it will be assigned a 1; otherwise 0 for ancestral\n",
    "    return next_gen\n",
    "    \n",
    "#simulating next generation\n",
    "next_gen = step_function(wf_pop=ancestral_pop) \n",
    "#^calling on step_function and passing my ancestral_pop list as an argument to the param 'wf_pop'\n",
    "\n",
    "print(next_gen)"
   ]
  },
  {
   "cell_type": "code",
   "execution_count": 12,
   "id": "d9d52c13-0ace-431a-9596-4574e621c1df",
   "metadata": {},
   "outputs": [
    {
     "name": "stdout",
     "output_type": "stream",
     "text": [
      "generations: 10; freq(a): 0.0541\n"
     ]
    }
   ],
   "source": [
    "#COPIED FROM ABOVE: this function initialized my population w a certain N and f for each individual\n",
    "def init_function(N, f):\n",
    "    derived = int(N*f) #determines derived alleles\n",
    "    ancestral = N - derived #determines ancestral alleles\n",
    "    population = [1] * derived + [0] * ancestral #derived/ancestral allele frequency for entire pop\n",
    "    return population #returns 23 list items, and assigns them 0 or 1 to fit value of f\n",
    "\n",
    "#COPIED FROM ABOVE: this function allows me to simulate generations esp. allele frequencies\n",
    "def step_function(wf_pop): #my function!!!\n",
    "    N = len(wf_pop) #retrieving population size (in this case it is 10!)\n",
    "    derived = sum(wf_pop) / N #chance of a derived allele being past to next generation \n",
    "    #(I have N = 10, derived alleles = 5 THUS 50% chance of allele being passed on\n",
    "\n",
    "    next_gen = [1 if random.random() < derived else 0 for _ in range(N)] \n",
    "    #^ will probabilistically assign 1 or 0 to the derived allele frequency \n",
    "    #if random num is less than 50% (or 0.5) then it will be assigned a 1; otherwise 0 for ancestral\n",
    "    return next_gen\n",
    "\n",
    "\n",
    "#Bringing it ALL together - initializes AND loops through each generation \n",
    "##spits out final derived allele frequency after 10 gens!!!!!\n",
    "def wf_function(N, f, ngens): #N = pop size., f = derived allele freq., ngens = # generations to run\n",
    "    population = init_function(N, f)\n",
    "    #simulating for _ generations:\n",
    "    for _ in range(ngens):\n",
    "        population = step_function(population)\n",
    "    final_derived_freq = sum(population) / N\n",
    "\n",
    "    print(f\"generations: {ngens}; freq(a): {final_derived_freq:.4f}\") #formats so string/int can print together\n",
    "wf_function(N = 37, f = 0.3, ngens = 10) #output"
   ]
  },
  {
   "cell_type": "code",
   "execution_count": null,
   "id": "e4f5481c-c2d8-4b3a-9522-e5aa6608e018",
   "metadata": {},
   "outputs": [],
   "source": [
    "#Further challenges:"
   ]
  }
 ],
 "metadata": {
  "kernelspec": {
   "display_name": "Python 3 (ipykernel)",
   "language": "python",
   "name": "python3"
  },
  "language_info": {
   "codemirror_mode": {
    "name": "ipython",
    "version": 3
   },
   "file_extension": ".py",
   "mimetype": "text/x-python",
   "name": "python",
   "nbconvert_exporter": "python",
   "pygments_lexer": "ipython3",
   "version": "3.10.12"
  }
 },
 "nbformat": 4,
 "nbformat_minor": 5
}
